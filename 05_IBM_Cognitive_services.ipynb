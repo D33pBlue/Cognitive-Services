{
 "cells": [
  {
   "cell_type": "markdown",
   "metadata": {},
   "source": [
    "# IBM Cognitive Services\n",
    "\n",
    "Notes from lecture of 19/04/2018"
   ]
  },
  {
   "cell_type": "markdown",
   "metadata": {},
   "source": [
    "## Distribution models in IBM platform\n",
    "\n",
    "There are differents kind of cloud services: public cloud, private cloud and hybrid cloud. In this lecture public cloud is used. \\[Description of IBM infrastructure and plans...\\]\n",
    "\n",
    "## Node-RED\n",
    "\n",
    "Framework to prototype some applications with cognitive function through drag & drop in a simple user interface.\n",
    "\n",
    "\n"
   ]
  },
  {
   "cell_type": "markdown",
   "metadata": {},
   "source": [
    "## IBM Watson\n",
    "\n",
    "AI that try to understand natural language and starting from the meaning answer questions (not just from similar words sintactically)\n",
    "- understand question\n",
    "- explore possible answers\n",
    "- choose the correct one\n",
    "\n",
    "### General considerations\n",
    "\n",
    "- Artificial intelligence try to emulate human abilities\n",
    "- Machine learning needs data and try to find a pattern\n",
    "- Cognitive computing try to make decisions, analyse the problem/data and go beyond human capabilities\n",
    "\n",
    "### Historical approaches\n",
    "- Rule-based semantic serch and analytics\n",
    "- Machine learning\n",
    "- Cognitive systems (scalable!)\n",
    "- Cognitive solutions\n",
    "\n",
    "### Conversational system\n",
    "\n",
    "The key concept is not to find an appropriate answer, but is first to be able to understand the question the user is asking (semantically)."
   ]
  },
  {
   "cell_type": "markdown",
   "metadata": {},
   "source": []
  }
 ],
 "metadata": {
  "kernelspec": {
   "display_name": "Python 3",
   "language": "python",
   "name": "python3"
  },
  "language_info": {
   "codemirror_mode": {
    "name": "ipython",
    "version": 3
   },
   "file_extension": ".py",
   "mimetype": "text/x-python",
   "name": "python",
   "nbconvert_exporter": "python",
   "pygments_lexer": "ipython3",
   "version": "3.5.5"
  }
 },
 "nbformat": 4,
 "nbformat_minor": 2
}
